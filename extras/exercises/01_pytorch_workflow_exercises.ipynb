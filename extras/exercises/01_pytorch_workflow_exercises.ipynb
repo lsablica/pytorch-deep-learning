{
  "cells": [
    {
      "cell_type": "markdown",
      "metadata": {
        "colab_type": "text",
        "id": "view-in-github"
      },
      "source": [
        "<a href=\"https://colab.research.google.com/github/mrdbourke/pytorch-deep-learning/blob/main/extras/exercises/01_pytorch_workflow_exercises.ipynb\" target=\"_parent\"><img src=\"https://colab.research.google.com/assets/colab-badge.svg\" alt=\"Open In Colab\"/></a>"
      ]
    },
    {
      "cell_type": "markdown",
      "metadata": {
        "id": "N8LsPXZti9Sw"
      },
      "source": [
        "# 01. PyTorch Workflow Exercise Template\n",
        "\n",
        "The following is a template for the PyTorch workflow exercises.\n",
        "\n",
        "It's only starter code and it's your job to fill in the blanks.\n",
        "\n",
        "Because of the flexibility of PyTorch, there may be more than one way to answer the question.\n",
        "\n",
        "Don't worry about trying to be *right* just try writing code that suffices the question.\n",
        "\n",
        "You can see one form of [solutions on GitHub](https://github.com/mrdbourke/pytorch-deep-learning/tree/main/extras/solutions) (but try the exercises below yourself first!)."
      ]
    },
    {
      "cell_type": "code",
      "execution_count": 2,
      "metadata": {
        "id": "Glu2fM4dkNlx"
      },
      "outputs": [],
      "source": [
        "# Import necessary libraries\n",
        "import numpy as np\n",
        "import torch\n",
        "from torch.nn import Module"
      ]
    },
    {
      "cell_type": "code",
      "execution_count": 3,
      "metadata": {
        "id": "LqKhXY26m31s"
      },
      "outputs": [
        {
          "name": "stdout",
          "output_type": "stream",
          "text": [
            "Using cuda device\n"
          ]
        }
      ],
      "source": [
        "# Setup device-agnostic code\n",
        "DEVICE = \"cuda\" if torch.cuda.is_available() else \"cpu\"\n",
        "print(f\"Using {DEVICE} device\")"
      ]
    },
    {
      "cell_type": "markdown",
      "metadata": {
        "id": "g7HUhxCxjeBx"
      },
      "source": [
        "## 1. Create a straight line dataset using the linear regression formula (`weight * X + bias`).\n",
        "  * Set `weight=0.3` and `bias=0.9` there should be at least 100 datapoints total. \n",
        "  * Split the data into 80% training, 20% testing.\n",
        "  * Plot the training and testing data so it becomes visual.\n",
        "\n",
        "Your output of the below cell should look something like:\n",
        "```\n",
        "Number of X samples: 100\n",
        "Number of y samples: 100\n",
        "First 10 X & y samples:\n",
        "X: tensor([0.0000, 0.0100, 0.0200, 0.0300, 0.0400, 0.0500, 0.0600, 0.0700, 0.0800,\n",
        "        0.0900])\n",
        "y: tensor([0.9000, 0.9030, 0.9060, 0.9090, 0.9120, 0.9150, 0.9180, 0.9210, 0.9240,\n",
        "        0.9270])\n",
        "```\n",
        "\n",
        "Of course the numbers in `X` and `y` may be different but ideally they're created using the linear regression formula."
      ]
    },
    {
      "cell_type": "code",
      "execution_count": 5,
      "metadata": {
        "id": "KbDG5MV7jhvE"
      },
      "outputs": [
        {
          "name": "stdout",
          "output_type": "stream",
          "text": [
            "Number of X samples: 100\n",
            "Number of y samples: 100\n",
            "First 10 X & y samples:\n",
            "X: tensor([[ 1.3128],\n",
            "        [-0.9463],\n",
            "        [ 0.6148],\n",
            "        [ 0.4674],\n",
            "        [-0.3118],\n",
            "        [ 0.9800],\n",
            "        [-0.4330],\n",
            "        [-0.1515],\n",
            "        [ 0.6406],\n",
            "        [ 1.1396]], device='cuda:0')\n",
            "y: tensor([[1.2938],\n",
            "        [0.6161],\n",
            "        [1.0844],\n",
            "        [1.0402],\n",
            "        [0.8065],\n",
            "        [1.1940],\n",
            "        [0.7701],\n",
            "        [0.8546],\n",
            "        [1.0922],\n",
            "        [1.2419]], device='cuda:0')\n"
          ]
        }
      ],
      "source": [
        "# Create the data parameters\n",
        "weight = 0.3\n",
        "bias = 0.9\n",
        "\n",
        "X = torch.randn(100,1).to(DEVICE)\n",
        "Y = weight*X+bias\n",
        "Y.to(DEVICE)\n",
        "\n",
        "\n",
        "# Make X and y using linear regression feature\n",
        "\n",
        "\n",
        "print(f\"Number of X samples: {len(X)}\")\n",
        "print(f\"Number of y samples: {len(Y)}\")\n",
        "print(f\"First 10 X & y samples:\\nX: {X[:10]}\\ny: {Y[:10]}\")"
      ]
    },
    {
      "cell_type": "code",
      "execution_count": 9,
      "metadata": {
        "id": "GlwtT1djkmLw"
      },
      "outputs": [],
      "source": [
        "# Split the data into training and testing\n",
        "X_test, X_train = X[80:], X[:80]\n",
        "Y_test, Y_train = Y[80:], Y[:80]"
      ]
    },
    {
      "cell_type": "code",
      "execution_count": 11,
      "metadata": {
        "id": "29iQZFNhlYJ-"
      },
      "outputs": [
        {
          "data": {
            "text/plain": [
              "<matplotlib.legend.Legend at 0x267d60b9290>"
            ]
          },
          "execution_count": 11,
          "metadata": {},
          "output_type": "execute_result"
        },
        {
          "data": {
            "image/png": "[encoded data removed]",
            "text/plain": [
              "<Figure size 640x480 with 1 Axes>"
            ]
          },
          "metadata": {},
          "output_type": "display_data"
        }
      ],
      "source": [
        "# Plot the training and testing data \n",
        "import matplotlib.pyplot as plt\n",
        "\n",
        "plt.scatter(X_train.cpu().numpy(), Y_train.cpu().numpy(), label=\"Training Data\")\n",
        "plt.scatter(X_test.cpu().numpy(), Y_test.cpu().numpy(), label=\"Testing Data\")\n",
        "plt.legend()"
      ]
    },
    {
      "cell_type": "markdown",
      "metadata": {
        "id": "ImZoe3v8jif8"
      },
      "source": [
        "## 2. Build a PyTorch model by subclassing `nn.Module`. \n",
        "  * Inside should be a randomly initialized `nn.Parameter()` with `requires_grad=True`, one for `weights` and one for `bias`. \n",
        "  * Implement the `forward()` method to compute the linear regression function you used to create the dataset in 1. \n",
        "  * Once you've constructed the model, make an instance of it and check its `state_dict()`.\n",
        "  * **Note:** If you'd like to use `nn.Linear()` instead of `nn.Parameter()` you can."
      ]
    },
    {
      "cell_type": "code",
      "execution_count": 45,
      "metadata": {
        "id": "qzd__Y5rjtB8"
      },
      "outputs": [],
      "source": [
        "# Create PyTorch linear regression model by subclassing nn.Module\n",
        "\n",
        "class LinReg(Module):\n",
        "    def __init__(self):\n",
        "        super().__init__()\n",
        "        self.weight = torch.nn.Parameter(torch.randn(1),requires_grad=True)\n",
        "        self.bias = torch.nn.Parameter(torch.randn(1), requires_grad=True)\n",
        "\n",
        "    def forward(self, x: torch.Tensor) -> torch.Tensor:\n",
        "        y = self.weight * x + self.bias\n",
        "        return y       "
      ]
    },
    {
      "cell_type": "code",
      "execution_count": 58,
      "metadata": {
        "id": "5LdcDnmOmyQ2"
      },
      "outputs": [
        {
          "name": "stdout",
          "output_type": "stream",
          "text": [
            "LinReg()\n"
          ]
        },
        {
          "data": {
            "text/plain": [
              "OrderedDict([('weight', tensor([0.3367], device='cuda:0')),\n",
              "             ('bias', tensor([0.1288], device='cuda:0'))])"
            ]
          },
          "execution_count": 58,
          "metadata": {},
          "output_type": "execute_result"
        }
      ],
      "source": [
        "# Instantiate the model and put it to the target device\n",
        "model = LinReg().to(DEVICE)\n",
        "print(model)\n",
        "model.state_dict()"
      ]
    },
    {
      "cell_type": "markdown",
      "metadata": {
        "id": "G6nYOrJhjtfu"
      },
      "source": [
        "## 3. Create a loss function and optimizer using `nn.L1Loss()` and `torch.optim.SGD(params, lr)` respectively. \n",
        "  * Set the learning rate of the optimizer to be 0.01 and the parameters to optimize should be the model parameters from the model you created in 2.\n",
        "  * Write a training loop to perform the appropriate training steps for 300 epochs.\n",
        "  * The training loop should test the model on the test dataset every 20 epochs."
      ]
    },
    {
      "cell_type": "code",
      "execution_count": 59,
      "metadata": {
        "id": "ltvoZ-FWjv1j"
      },
      "outputs": [],
      "source": [
        "# Create the loss function and optimizer\n",
        "torch.manual_seed(42)\n",
        "\n",
        "lr = 0.1\n",
        "loss = torch.nn.L1Loss()\n",
        "optim = torch.optim.Adagrad(model.parameters(), lr = lr)"
      ]
    },
    {
      "cell_type": "code",
      "execution_count": 60,
      "metadata": {},
      "outputs": [
        {
          "data": {
            "text/plain": [
              "(torch.Size([80, 1]),\n",
              " torch.Size([80, 1]),\n",
              " torch.Size([20, 1]),\n",
              " torch.Size([20, 1]))"
            ]
          },
          "execution_count": 60,
          "metadata": {},
          "output_type": "execute_result"
        }
      ],
      "source": [
        "X_train.shape, Y_train.shape, X_test.shape, Y_test.shape"
      ]
    },
    {
      "cell_type": "code",
      "execution_count": 61,
      "metadata": {
        "id": "xpE83NvNnkdV"
      },
      "outputs": [
        {
          "name": "stdout",
          "output_type": "stream",
          "text": [
            "Epoch: 0 | Train loss: 0.768 | Test loss: 0.740\n",
            "Epoch: 20 | Train loss: 0.045 | Test loss: 0.037\n",
            "Epoch: 40 | Train loss: 0.011 | Test loss: 0.007\n",
            "Epoch: 60 | Train loss: 0.009 | Test loss: 0.004\n",
            "Epoch: 80 | Train loss: 0.010 | Test loss: 0.008\n",
            "Epoch: 100 | Train loss: 0.009 | Test loss: 0.006\n",
            "Epoch: 120 | Train loss: 0.007 | Test loss: 0.005\n",
            "Epoch: 140 | Train loss: 0.007 | Test loss: 0.004\n",
            "Epoch: 160 | Train loss: 0.006 | Test loss: 0.004\n",
            "Epoch: 180 | Train loss: 0.006 | Test loss: 0.004\n",
            "Epoch: 200 | Train loss: 0.005 | Test loss: 0.003\n",
            "Epoch: 220 | Train loss: 0.005 | Test loss: 0.002\n",
            "Epoch: 240 | Train loss: 0.005 | Test loss: 0.002\n",
            "Epoch: 260 | Train loss: 0.005 | Test loss: 0.002\n",
            "Epoch: 280 | Train loss: 0.005 | Test loss: 0.002\n"
          ]
        }
      ],
      "source": [
        "# Training loop\n",
        "epochs = 300\n",
        "\n",
        "recloss = []\n",
        "rectestloss = []\n",
        "\n",
        "for epoch in range(epochs):\n",
        "  model.train()\n",
        "  Ynew = model(X_train)\n",
        "  Loss = loss(Ynew , Y_train)\n",
        "\n",
        "  optim.zero_grad()\n",
        "  Loss.backward()\n",
        "  optim.step()\n",
        "\n",
        "  if epoch % 20 == 0 :\n",
        "     recloss.append(Loss.item())\n",
        "     with torch.inference_mode():\n",
        "        model.eval()\n",
        "        Ytestpred = model(X_test)\n",
        "        testloss = loss(Ytestpred, Y_test)\n",
        "        rectestloss.append(testloss.item())\n",
        "        print(f\"Epoch: {epoch} | Train loss: {Loss:.3f} | Test loss: {testloss:.3f}\")\n"
      ]
    },
    {
      "cell_type": "markdown",
      "metadata": {
        "id": "x4j4TM18jwa7"
      },
      "source": [
        "## 4. Make predictions with the trained model on the test data.\n",
        "  * Visualize these predictions against the original training and testing data (**note:** you may need to make sure the predictions are *not* on the GPU if you want to use non-CUDA-enabled libraries such as matplotlib to plot)."
      ]
    },
    {
      "cell_type": "code",
      "execution_count": 62,
      "metadata": {
        "id": "bbMPK5Qjjyx_"
      },
      "outputs": [],
      "source": [
        "# Make predictions with the model\n",
        "with torch.inference_mode():\n",
        "    model.eval()\n",
        "    Ytestpredfinal = model(X_test).cpu().numpy()\n",
        "\n"
      ]
    },
    {
      "cell_type": "code",
      "execution_count": 68,
      "metadata": {
        "id": "K3BdmQaDpFo8"
      },
      "outputs": [
        {
          "data": {
            "text/plain": [
              "<matplotlib.legend.Legend at 0x267eee3e3d0>"
            ]
          },
          "execution_count": 68,
          "metadata": {},
          "output_type": "execute_result"
        },
        {
          "data": {
            "image/png": "[encoded data removed]",
            "text/plain": [
              "<Figure size 640x480 with 1 Axes>"
            ]
          },
          "metadata": {},
          "output_type": "display_data"
        }
      ],
      "source": [
        "# Plot the predictions (these may need to be on a specific device)\n",
        "plt.scatter(X_test.cpu().numpy(), Ytestpredfinal, label=\"Predictions\",  s = 100)\n",
        "plt.scatter(X_test.cpu().numpy(), Y_test.cpu().numpy(), label=\"Actual Data\", alpha = 0.8)\n",
        "plt.legend()"
      ]
    },
    {
      "cell_type": "markdown",
      "metadata": {
        "id": "s2OnlMWKjzX8"
      },
      "source": [
        "## 5. Save your trained model's `state_dict()` to file.\n",
        "  * Create a new instance of your model class you made in 2. and load in the `state_dict()` you just saved to it.\n",
        "  * Perform predictions on your test data with the loaded model and confirm they match the original model predictions from 4."
      ]
    },
    {
      "cell_type": "code",
      "execution_count": 69,
      "metadata": {
        "id": "hgxhgD14qr-i"
      },
      "outputs": [
        {
          "name": "stdout",
          "output_type": "stream",
          "text": [
            "Saving model to: mymodels\\mylinreg.pth\n"
          ]
        }
      ],
      "source": [
        "from pathlib import Path\n",
        "\n",
        "# 1. Create models directory \n",
        "MODEL_PATH = Path(\"mymodels\")\n",
        "MODEL_PATH.mkdir(parents=True, exist_ok=True)\n",
        "\n",
        "# 2. Create model save path \n",
        "MODEL_NAME = \"mylinreg.pth\"\n",
        "MODEL_SAVE_PATH = MODEL_PATH / MODEL_NAME\n",
        "\n",
        "# 3. Save the model state dict \n",
        "print(f\"Saving model to: {MODEL_SAVE_PATH}\")\n",
        "torch.save(obj=model.state_dict(), # only saving the state_dict() only saves the models learned parameters\n",
        "           f=MODEL_SAVE_PATH) \n"
      ]
    },
    {
      "cell_type": "code",
      "execution_count": 70,
      "metadata": {
        "id": "P9vTgiLRrJ7T"
      },
      "outputs": [
        {
          "data": {
            "text/plain": [
              "<All keys matched successfully>"
            ]
          },
          "execution_count": 70,
          "metadata": {},
          "output_type": "execute_result"
        }
      ],
      "source": [
        "# Create new instance of model and load saved state dict (make sure to put it on the target device)\n",
        "model2 = LinReg().to(DEVICE)\n",
        "model2.load_state_dict(torch.load(MODEL_SAVE_PATH))"
      ]
    },
    {
      "cell_type": "code",
      "execution_count": 71,
      "metadata": {
        "id": "8UGX3VebrVtI"
      },
      "outputs": [
        {
          "data": {
            "text/plain": [
              "<matplotlib.legend.Legend at 0x267eec4b1d0>"
            ]
          },
          "execution_count": 71,
          "metadata": {},
          "output_type": "execute_result"
        },
        {
          "data": {
            "image/png": "[encoded data removed]",
            "text/plain": [
              "<Figure size 640x480 with 1 Axes>"
            ]
          },
          "metadata": {},
          "output_type": "display_data"
        }
      ],
      "source": [
        "# Make predictions with loaded model and compare them to the previous\n",
        "with torch.inference_mode():\n",
        "    model2.eval()\n",
        "    Ytestpredfinal2 = model2(X_test).cpu().numpy()\n",
        "\n",
        "\n",
        "plt.scatter(X_test.cpu().numpy(), Ytestpredfinal2, label=\"Predictions\",  s = 100)\n",
        "plt.scatter(X_test.cpu().numpy(), Y_test.cpu().numpy(), label=\"Actual Data\", alpha = 0.8)\n",
        "plt.legend()"
      ]
    }
  ],
  "metadata": {
    "accelerator": "GPU",
    "colab": {
      "authorship_tag": "ABX9TyNYzatJtFkfUqqdiR6rYwVL",
      "collapsed_sections": [],
      "include_colab_link": true,
      "name": "01_pytorch_workflow_exercises.ipynb",
      "provenance": []
    },
    "kernelspec": {
      "display_name": "Python 3",
      "name": "python3"
    },
    "language_info": {
      "codemirror_mode": {
        "name": "ipython",
        "version": 3
      },
      "file_extension": ".py",
      "mimetype": "text/x-python",
      "name": "python",
      "nbconvert_exporter": "python",
      "pygments_lexer": "ipython3",
      "version": "3.11.0rc2"
    }
  },
  "nbformat": 4,
  "nbformat_minor": 0
}
